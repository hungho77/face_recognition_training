{
 "cells": [
  {
   "cell_type": "code",
   "execution_count": 1,
   "id": "86c2fa6f",
   "metadata": {},
   "outputs": [],
   "source": [
    "import pickle\n",
    "import numpy as np\n",
    "import pandas as pd"
   ]
  },
  {
   "cell_type": "markdown",
   "id": "a62083de",
   "metadata": {},
   "source": [
    "# Profiles"
   ]
  },
  {
   "cell_type": "code",
   "execution_count": 2,
   "id": "8f5599ed",
   "metadata": {},
   "outputs": [],
   "source": [
    "with open('./save_feat/feature_adaface_ir101_webface12m_profiles.pickle', 'rb') as f:\n",
    "    profiles_feats = pickle.load(f)"
   ]
  },
  {
   "cell_type": "code",
   "execution_count": 3,
   "id": "39a47e73",
   "metadata": {},
   "outputs": [
    {
     "data": {
      "text/plain": [
       "4443"
      ]
     },
     "execution_count": 3,
     "metadata": {},
     "output_type": "execute_result"
    }
   ],
   "source": [
    "len(profiles_feats.keys())"
   ]
  },
  {
   "cell_type": "code",
   "execution_count": 4,
   "id": "39645b71",
   "metadata": {},
   "outputs": [
    {
     "data": {
      "text/plain": [
       "(4443, 512)"
      ]
     },
     "execution_count": 4,
     "metadata": {},
     "output_type": "execute_result"
    }
   ],
   "source": [
    "np.array(list(profiles_feats.values())).squeeze(1).shape"
   ]
  },
  {
   "cell_type": "code",
   "execution_count": 5,
   "id": "c213e2e3",
   "metadata": {},
   "outputs": [],
   "source": [
    "profiles_face_ids = []\n",
    "profiles_image_names = []\n",
    "for k in profiles_feats.keys():\n",
    "    profiles_face_ids.append(k.split('_')[0])\n",
    "    profiles_image_names.append(k)\n"
   ]
  },
  {
   "cell_type": "code",
   "execution_count": 6,
   "id": "f46017c9",
   "metadata": {},
   "outputs": [],
   "source": [
    "profiles_df = pd.DataFrame({'id':profiles_face_ids, 'feat':list(profiles_feats.values()), 'image_name':profiles_image_names})"
   ]
  },
  {
   "cell_type": "code",
   "execution_count": 7,
   "id": "99f281f0",
   "metadata": {},
   "outputs": [
    {
     "data": {
      "text/html": [
       "<div>\n",
       "<style scoped>\n",
       "    .dataframe tbody tr th:only-of-type {\n",
       "        vertical-align: middle;\n",
       "    }\n",
       "\n",
       "    .dataframe tbody tr th {\n",
       "        vertical-align: top;\n",
       "    }\n",
       "\n",
       "    .dataframe thead th {\n",
       "        text-align: right;\n",
       "    }\n",
       "</style>\n",
       "<table border=\"1\" class=\"dataframe\">\n",
       "  <thead>\n",
       "    <tr style=\"text-align: right;\">\n",
       "      <th></th>\n",
       "      <th>id</th>\n",
       "      <th>feat</th>\n",
       "      <th>image_name</th>\n",
       "    </tr>\n",
       "  </thead>\n",
       "  <tbody>\n",
       "    <tr>\n",
       "      <th>0</th>\n",
       "      <td>4470</td>\n",
       "      <td>[[-0.022982748, 0.021464614, 0.01820613, 0.086...</td>\n",
       "      <td>4470_3.jpg</td>\n",
       "    </tr>\n",
       "    <tr>\n",
       "      <th>1</th>\n",
       "      <td>1737</td>\n",
       "      <td>[[0.036668584, 0.036190886, -0.04464412, -0.02...</td>\n",
       "      <td>1737_2.jpg</td>\n",
       "    </tr>\n",
       "    <tr>\n",
       "      <th>2</th>\n",
       "      <td>390</td>\n",
       "      <td>[[-0.07940415, 0.052058954, 0.005915749, -0.00...</td>\n",
       "      <td>390_11.jpg</td>\n",
       "    </tr>\n",
       "    <tr>\n",
       "      <th>3</th>\n",
       "      <td>4985</td>\n",
       "      <td>[[-0.042736806, 0.055953614, -0.02027406, 0.00...</td>\n",
       "      <td>4985_1.jpg</td>\n",
       "    </tr>\n",
       "    <tr>\n",
       "      <th>4</th>\n",
       "      <td>1667</td>\n",
       "      <td>[[0.04142807, 0.07902482, 0.07626078, -0.03072...</td>\n",
       "      <td>1667_2.jpg</td>\n",
       "    </tr>\n",
       "    <tr>\n",
       "      <th>...</th>\n",
       "      <td>...</td>\n",
       "      <td>...</td>\n",
       "      <td>...</td>\n",
       "    </tr>\n",
       "    <tr>\n",
       "      <th>4438</th>\n",
       "      <td>961</td>\n",
       "      <td>[[-0.057810713, -0.09719874, -0.052204117, -0....</td>\n",
       "      <td>961_6.jpg</td>\n",
       "    </tr>\n",
       "    <tr>\n",
       "      <th>4439</th>\n",
       "      <td>641</td>\n",
       "      <td>[[0.04617567, 0.031611796, -0.036156558, -0.13...</td>\n",
       "      <td>641_11.jpg</td>\n",
       "    </tr>\n",
       "    <tr>\n",
       "      <th>4440</th>\n",
       "      <td>3041</td>\n",
       "      <td>[[0.039365545, 0.091820374, -0.009164525, 0.03...</td>\n",
       "      <td>3041_1.jpg</td>\n",
       "    </tr>\n",
       "    <tr>\n",
       "      <th>4441</th>\n",
       "      <td>4870</td>\n",
       "      <td>[[-0.1046285, 0.019004075, -0.073794365, 0.017...</td>\n",
       "      <td>4870_2.jpg</td>\n",
       "    </tr>\n",
       "    <tr>\n",
       "      <th>4442</th>\n",
       "      <td>480</td>\n",
       "      <td>[[0.0051520295, 0.05010121, 0.0012929562, -0.0...</td>\n",
       "      <td>480_32.jpg</td>\n",
       "    </tr>\n",
       "  </tbody>\n",
       "</table>\n",
       "<p>4443 rows × 3 columns</p>\n",
       "</div>"
      ],
      "text/plain": [
       "        id                                               feat  image_name\n",
       "0     4470  [[-0.022982748, 0.021464614, 0.01820613, 0.086...  4470_3.jpg\n",
       "1     1737  [[0.036668584, 0.036190886, -0.04464412, -0.02...  1737_2.jpg\n",
       "2      390  [[-0.07940415, 0.052058954, 0.005915749, -0.00...  390_11.jpg\n",
       "3     4985  [[-0.042736806, 0.055953614, -0.02027406, 0.00...  4985_1.jpg\n",
       "4     1667  [[0.04142807, 0.07902482, 0.07626078, -0.03072...  1667_2.jpg\n",
       "...    ...                                                ...         ...\n",
       "4438   961  [[-0.057810713, -0.09719874, -0.052204117, -0....   961_6.jpg\n",
       "4439   641  [[0.04617567, 0.031611796, -0.036156558, -0.13...  641_11.jpg\n",
       "4440  3041  [[0.039365545, 0.091820374, -0.009164525, 0.03...  3041_1.jpg\n",
       "4441  4870  [[-0.1046285, 0.019004075, -0.073794365, 0.017...  4870_2.jpg\n",
       "4442   480  [[0.0051520295, 0.05010121, 0.0012929562, -0.0...  480_32.jpg\n",
       "\n",
       "[4443 rows x 3 columns]"
      ]
     },
     "execution_count": 7,
     "metadata": {},
     "output_type": "execute_result"
    }
   ],
   "source": [
    "profiles_df"
   ]
  },
  {
   "cell_type": "code",
   "execution_count": 8,
   "id": "6c45cecc",
   "metadata": {},
   "outputs": [],
   "source": [
    "profiles_mat = np.array(profiles_df.feat.to_list()).squeeze(1)"
   ]
  },
  {
   "cell_type": "code",
   "execution_count": 9,
   "id": "0921d007",
   "metadata": {},
   "outputs": [
    {
     "data": {
      "text/plain": [
       "(4443, 512)"
      ]
     },
     "execution_count": 9,
     "metadata": {},
     "output_type": "execute_result"
    }
   ],
   "source": [
    "profiles_mat.shape"
   ]
  },
  {
   "cell_type": "markdown",
   "id": "907fc933",
   "metadata": {},
   "source": [
    "# Test Image"
   ]
  },
  {
   "cell_type": "code",
   "execution_count": 10,
   "id": "8e07c0a0",
   "metadata": {},
   "outputs": [],
   "source": [
    "with open('./save_feat/feature_adaface_ir101_webface12m_test.pickle', 'rb') as f:\n",
    "    test_feats = pickle.load(f)"
   ]
  },
  {
   "cell_type": "code",
   "execution_count": 11,
   "id": "69701650",
   "metadata": {},
   "outputs": [
    {
     "data": {
      "text/plain": [
       "3728"
      ]
     },
     "execution_count": 11,
     "metadata": {},
     "output_type": "execute_result"
    }
   ],
   "source": [
    "len(test_feats.keys())"
   ]
  },
  {
   "cell_type": "code",
   "execution_count": 12,
   "id": "0e5d5255",
   "metadata": {},
   "outputs": [
    {
     "data": {
      "text/plain": [
       "(3728, 512)"
      ]
     },
     "execution_count": 12,
     "metadata": {},
     "output_type": "execute_result"
    }
   ],
   "source": [
    "np.array(list(test_feats.values())).squeeze(1).shape"
   ]
  },
  {
   "cell_type": "code",
   "execution_count": 13,
   "id": "6ce23da3",
   "metadata": {},
   "outputs": [],
   "source": [
    "test_face_ids = []\n",
    "test_image_names = []\n",
    "for k in test_feats.keys():\n",
    "    test_face_ids.append(k.split('_')[0])\n",
    "    test_image_names.append(k)"
   ]
  },
  {
   "cell_type": "code",
   "execution_count": 14,
   "id": "5cdc005e",
   "metadata": {},
   "outputs": [],
   "source": [
    "test_df = pd.DataFrame({'id':test_face_ids, 'feat':list(test_feats.values()), 'image_name':test_image_names})"
   ]
  },
  {
   "cell_type": "code",
   "execution_count": 15,
   "id": "d872294c",
   "metadata": {},
   "outputs": [
    {
     "data": {
      "text/html": [
       "<div>\n",
       "<style scoped>\n",
       "    .dataframe tbody tr th:only-of-type {\n",
       "        vertical-align: middle;\n",
       "    }\n",
       "\n",
       "    .dataframe tbody tr th {\n",
       "        vertical-align: top;\n",
       "    }\n",
       "\n",
       "    .dataframe thead th {\n",
       "        text-align: right;\n",
       "    }\n",
       "</style>\n",
       "<table border=\"1\" class=\"dataframe\">\n",
       "  <thead>\n",
       "    <tr style=\"text-align: right;\">\n",
       "      <th></th>\n",
       "      <th>id</th>\n",
       "      <th>feat</th>\n",
       "      <th>image_name</th>\n",
       "    </tr>\n",
       "  </thead>\n",
       "  <tbody>\n",
       "    <tr>\n",
       "      <th>0</th>\n",
       "      <td>4158</td>\n",
       "      <td>[[-0.010510423, 0.036218934, -0.11204828, -0.0...</td>\n",
       "      <td>4158_6.jpg</td>\n",
       "    </tr>\n",
       "    <tr>\n",
       "      <th>1</th>\n",
       "      <td>3510</td>\n",
       "      <td>[[-0.0020468438, -0.011027685, 0.0029530183, -...</td>\n",
       "      <td>3510_2.jpg</td>\n",
       "    </tr>\n",
       "    <tr>\n",
       "      <th>2</th>\n",
       "      <td>5477</td>\n",
       "      <td>[[-0.018202154, 0.0153330825, 0.027043613, 0.0...</td>\n",
       "      <td>5477_2.jpg</td>\n",
       "    </tr>\n",
       "    <tr>\n",
       "      <th>3</th>\n",
       "      <td>4020</td>\n",
       "      <td>[[0.105125435, 0.08050128, -0.05876012, 0.0515...</td>\n",
       "      <td>4020_3.jpg</td>\n",
       "    </tr>\n",
       "    <tr>\n",
       "      <th>4</th>\n",
       "      <td>2353</td>\n",
       "      <td>[[0.063434534, 0.0062410254, 0.028865295, -0.0...</td>\n",
       "      <td>2353_4.jpg</td>\n",
       "    </tr>\n",
       "    <tr>\n",
       "      <th>...</th>\n",
       "      <td>...</td>\n",
       "      <td>...</td>\n",
       "      <td>...</td>\n",
       "    </tr>\n",
       "    <tr>\n",
       "      <th>3723</th>\n",
       "      <td>3190</td>\n",
       "      <td>[[0.021140588, 0.1175212, 0.009153222, 0.04619...</td>\n",
       "      <td>3190_1.jpg</td>\n",
       "    </tr>\n",
       "    <tr>\n",
       "      <th>3724</th>\n",
       "      <td>159</td>\n",
       "      <td>[[-0.0652652, 0.066973306, 0.022362689, 0.0460...</td>\n",
       "      <td>159_10.jpg</td>\n",
       "    </tr>\n",
       "    <tr>\n",
       "      <th>3725</th>\n",
       "      <td>3269</td>\n",
       "      <td>[[-0.02618685, 0.08867144, 0.04528909, 0.01482...</td>\n",
       "      <td>3269_2.jpg</td>\n",
       "    </tr>\n",
       "    <tr>\n",
       "      <th>3726</th>\n",
       "      <td>5004</td>\n",
       "      <td>[[0.05509101, 0.06511412, -0.079589464, -0.052...</td>\n",
       "      <td>5004_1.jpg</td>\n",
       "    </tr>\n",
       "    <tr>\n",
       "      <th>3727</th>\n",
       "      <td>2335</td>\n",
       "      <td>[[-0.0008676439, 0.052446812, 0.0057630236, 0....</td>\n",
       "      <td>2335_2.jpg</td>\n",
       "    </tr>\n",
       "  </tbody>\n",
       "</table>\n",
       "<p>3728 rows × 3 columns</p>\n",
       "</div>"
      ],
      "text/plain": [
       "        id                                               feat  image_name\n",
       "0     4158  [[-0.010510423, 0.036218934, -0.11204828, -0.0...  4158_6.jpg\n",
       "1     3510  [[-0.0020468438, -0.011027685, 0.0029530183, -...  3510_2.jpg\n",
       "2     5477  [[-0.018202154, 0.0153330825, 0.027043613, 0.0...  5477_2.jpg\n",
       "3     4020  [[0.105125435, 0.08050128, -0.05876012, 0.0515...  4020_3.jpg\n",
       "4     2353  [[0.063434534, 0.0062410254, 0.028865295, -0.0...  2353_4.jpg\n",
       "...    ...                                                ...         ...\n",
       "3723  3190  [[0.021140588, 0.1175212, 0.009153222, 0.04619...  3190_1.jpg\n",
       "3724   159  [[-0.0652652, 0.066973306, 0.022362689, 0.0460...  159_10.jpg\n",
       "3725  3269  [[-0.02618685, 0.08867144, 0.04528909, 0.01482...  3269_2.jpg\n",
       "3726  5004  [[0.05509101, 0.06511412, -0.079589464, -0.052...  5004_1.jpg\n",
       "3727  2335  [[-0.0008676439, 0.052446812, 0.0057630236, 0....  2335_2.jpg\n",
       "\n",
       "[3728 rows x 3 columns]"
      ]
     },
     "execution_count": 15,
     "metadata": {},
     "output_type": "execute_result"
    }
   ],
   "source": [
    "test_df"
   ]
  },
  {
   "cell_type": "code",
   "execution_count": 16,
   "id": "9e584697",
   "metadata": {},
   "outputs": [],
   "source": [
    "test_mat = np.array(test_df.feat.to_list()).squeeze(1)"
   ]
  },
  {
   "cell_type": "code",
   "execution_count": 17,
   "id": "e423292b",
   "metadata": {},
   "outputs": [
    {
     "data": {
      "text/plain": [
       "(3728, 512)"
      ]
     },
     "execution_count": 17,
     "metadata": {},
     "output_type": "execute_result"
    }
   ],
   "source": [
    "test_mat.shape"
   ]
  },
  {
   "cell_type": "markdown",
   "id": "e1306c2d",
   "metadata": {},
   "source": [
    "# Run Compute Sims"
   ]
  },
  {
   "cell_type": "code",
   "execution_count": 18,
   "id": "b63f8c14",
   "metadata": {},
   "outputs": [],
   "source": [
    "sims = (np.dot(test_mat, profiles_mat.T) + 1.0) / 2.0"
   ]
  },
  {
   "cell_type": "code",
   "execution_count": 19,
   "id": "c769972e",
   "metadata": {},
   "outputs": [
    {
     "data": {
      "text/plain": [
       "(3728, 4443)"
      ]
     },
     "execution_count": 19,
     "metadata": {},
     "output_type": "execute_result"
    }
   ],
   "source": [
    "sims.shape"
   ]
  },
  {
   "cell_type": "code",
   "execution_count": 20,
   "id": "40766061",
   "metadata": {},
   "outputs": [
    {
     "data": {
      "text/plain": [
       "array([[0.47797447, 0.525813  , 0.47832966, ..., 0.5174275 , 0.5273663 ,\n",
       "        0.5681299 ],\n",
       "       [0.5533403 , 0.5754499 , 0.44753844, ..., 0.5063311 , 0.49581808,\n",
       "        0.50589925],\n",
       "       [0.46781805, 0.41041097, 0.53192955, ..., 0.4685638 , 0.56690764,\n",
       "        0.50224984],\n",
       "       ...,\n",
       "       [0.54789007, 0.46486166, 0.78547394, ..., 0.6376294 , 0.49377942,\n",
       "        0.4973077 ],\n",
       "       [0.5648664 , 0.5702756 , 0.46885374, ..., 0.55467916, 0.47643107,\n",
       "        0.51351386],\n",
       "       [0.4846122 , 0.4960339 , 0.6497808 , ..., 0.7110972 , 0.5564951 ,\n",
       "        0.51814353]], dtype=float32)"
      ]
     },
     "execution_count": 20,
     "metadata": {},
     "output_type": "execute_result"
    }
   ],
   "source": [
    "sims"
   ]
  },
  {
   "cell_type": "code",
   "execution_count": 25,
   "id": "c68ca282",
   "metadata": {},
   "outputs": [
    {
     "name": "stdout",
     "output_type": "stream",
     "text": [
      "precision: 0.515776188472865, recall: 0.47574699262708575, accuracy: 0.328862660944206\n"
     ]
    }
   ],
   "source": [
    "true_positive = 0\n",
    "false_positive = 0\n",
    "false_nagetive = 0\n",
    "\n",
    "for i in range(sims.shape[0]):\n",
    "    index = np.argmax(sims[i])\n",
    "    if sims[i][index] < 0.73:\n",
    "        false_nagetive += 1\n",
    "    else:\n",
    "        if test_df.iloc[i].id == profiles_df.iloc[index].id:\n",
    "            true_positive += 1\n",
    "        else:\n",
    "            false_positive += 1\n",
    "\n",
    "precision = true_positive / (true_positive + false_positive)\n",
    "recall = true_positive / (true_positive + false_nagetive)\n",
    "accuracy = true_positive / sims.shape[0]\n",
    "print(\"precision: {}, recall: {}, accuracy: {}\".format(precision, recall, accuracy))"
   ]
  },
  {
   "cell_type": "code",
   "execution_count": null,
   "id": "b8e7d896",
   "metadata": {},
   "outputs": [],
   "source": []
  }
 ],
 "metadata": {
  "kernelspec": {
   "display_name": "insigthface",
   "language": "python",
   "name": "insigthface"
  },
  "language_info": {
   "codemirror_mode": {
    "name": "ipython",
    "version": 3
   },
   "file_extension": ".py",
   "mimetype": "text/x-python",
   "name": "python",
   "nbconvert_exporter": "python",
   "pygments_lexer": "ipython3",
   "version": "3.8.13"
  },
  "toc-autonumbering": true,
  "toc-showcode": false,
  "toc-showmarkdowntxt": false
 },
 "nbformat": 4,
 "nbformat_minor": 5
}
