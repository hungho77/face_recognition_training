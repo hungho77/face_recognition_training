{
 "cells": [
  {
   "cell_type": "code",
   "execution_count": 2,
   "id": "a1cdd003",
   "metadata": {},
   "outputs": [],
   "source": [
    "import pickle\n",
    "import numpy as np\n",
    "import pandas as pd"
   ]
  },
  {
   "cell_type": "markdown",
   "id": "a527103b",
   "metadata": {},
   "source": [
    "# Profiles"
   ]
  },
  {
   "cell_type": "code",
   "execution_count": 3,
   "id": "3ce8f84b",
   "metadata": {},
   "outputs": [],
   "source": [
    "with open('./save_feat/test_feature_r100_tiny_face_profiles.pickle', 'rb') as f:\n",
    "    profiles_feats = pickle.load(f)"
   ]
  },
  {
   "cell_type": "code",
   "execution_count": 4,
   "id": "afc647bc",
   "metadata": {},
   "outputs": [
    {
     "data": {
      "text/plain": [
       "4443"
      ]
     },
     "execution_count": 4,
     "metadata": {},
     "output_type": "execute_result"
    }
   ],
   "source": [
    "len(profiles_feats.keys())"
   ]
  },
  {
   "cell_type": "code",
   "execution_count": 5,
   "id": "577864c8",
   "metadata": {},
   "outputs": [
    {
     "data": {
      "text/plain": [
       "(4443, 512)"
      ]
     },
     "execution_count": 5,
     "metadata": {},
     "output_type": "execute_result"
    }
   ],
   "source": [
    "np.array(list(profiles_feats.values())).squeeze(1).shape"
   ]
  },
  {
   "cell_type": "code",
   "execution_count": 6,
   "id": "b454cecd",
   "metadata": {},
   "outputs": [],
   "source": [
    "profiles_face_ids = []\n",
    "profiles_image_names = []\n",
    "for k in profiles_feats.keys():\n",
    "    profiles_face_ids.append(k.split('_')[0])\n",
    "    profiles_image_names.append(k)\n"
   ]
  },
  {
   "cell_type": "code",
   "execution_count": 7,
   "id": "c94a6f4f",
   "metadata": {},
   "outputs": [],
   "source": [
    "profiles_df = pd.DataFrame({'id':profiles_face_ids, 'feat':list(profiles_feats.values()), 'image_name':profiles_image_names})"
   ]
  },
  {
   "cell_type": "code",
   "execution_count": 8,
   "id": "84b6ba04",
   "metadata": {},
   "outputs": [
    {
     "data": {
      "text/html": [
       "<div>\n",
       "<style scoped>\n",
       "    .dataframe tbody tr th:only-of-type {\n",
       "        vertical-align: middle;\n",
       "    }\n",
       "\n",
       "    .dataframe tbody tr th {\n",
       "        vertical-align: top;\n",
       "    }\n",
       "\n",
       "    .dataframe thead th {\n",
       "        text-align: right;\n",
       "    }\n",
       "</style>\n",
       "<table border=\"1\" class=\"dataframe\">\n",
       "  <thead>\n",
       "    <tr style=\"text-align: right;\">\n",
       "      <th></th>\n",
       "      <th>id</th>\n",
       "      <th>feat</th>\n",
       "      <th>image_name</th>\n",
       "    </tr>\n",
       "  </thead>\n",
       "  <tbody>\n",
       "    <tr>\n",
       "      <th>0</th>\n",
       "      <td>4470</td>\n",
       "      <td>[[0.0032535982, 0.087296896, -0.0054867226, -0...</td>\n",
       "      <td>4470_3.jpg</td>\n",
       "    </tr>\n",
       "    <tr>\n",
       "      <th>1</th>\n",
       "      <td>1737</td>\n",
       "      <td>[[0.023858232, -0.013248299, 0.029257584, 0.00...</td>\n",
       "      <td>1737_2.jpg</td>\n",
       "    </tr>\n",
       "    <tr>\n",
       "      <th>2</th>\n",
       "      <td>390</td>\n",
       "      <td>[[0.049199242, 0.009060843, 0.059195463, 0.043...</td>\n",
       "      <td>390_11.jpg</td>\n",
       "    </tr>\n",
       "    <tr>\n",
       "      <th>3</th>\n",
       "      <td>4985</td>\n",
       "      <td>[[-0.035605703, 0.02781184, 0.009004803, -0.02...</td>\n",
       "      <td>4985_1.jpg</td>\n",
       "    </tr>\n",
       "    <tr>\n",
       "      <th>4</th>\n",
       "      <td>1667</td>\n",
       "      <td>[[-0.0028737723, 0.06858538, 0.049484707, -0.0...</td>\n",
       "      <td>1667_2.jpg</td>\n",
       "    </tr>\n",
       "    <tr>\n",
       "      <th>...</th>\n",
       "      <td>...</td>\n",
       "      <td>...</td>\n",
       "      <td>...</td>\n",
       "    </tr>\n",
       "    <tr>\n",
       "      <th>4438</th>\n",
       "      <td>961</td>\n",
       "      <td>[[-0.02176254, -0.010053865, -0.04326786, -0.0...</td>\n",
       "      <td>961_6.jpg</td>\n",
       "    </tr>\n",
       "    <tr>\n",
       "      <th>4439</th>\n",
       "      <td>641</td>\n",
       "      <td>[[0.018750526, 0.040325377, -0.020772193, -0.0...</td>\n",
       "      <td>641_11.jpg</td>\n",
       "    </tr>\n",
       "    <tr>\n",
       "      <th>4440</th>\n",
       "      <td>3041</td>\n",
       "      <td>[[0.03290178, 0.014625239, 0.021345284, 0.1004...</td>\n",
       "      <td>3041_1.jpg</td>\n",
       "    </tr>\n",
       "    <tr>\n",
       "      <th>4441</th>\n",
       "      <td>4870</td>\n",
       "      <td>[[0.04556825, -0.05682025, 0.030321093, 0.0209...</td>\n",
       "      <td>4870_2.jpg</td>\n",
       "    </tr>\n",
       "    <tr>\n",
       "      <th>4442</th>\n",
       "      <td>480</td>\n",
       "      <td>[[-0.0012077964, 0.058828387, -0.111839026, -0...</td>\n",
       "      <td>480_32.jpg</td>\n",
       "    </tr>\n",
       "  </tbody>\n",
       "</table>\n",
       "<p>4443 rows × 3 columns</p>\n",
       "</div>"
      ],
      "text/plain": [
       "        id                                               feat  image_name\n",
       "0     4470  [[0.0032535982, 0.087296896, -0.0054867226, -0...  4470_3.jpg\n",
       "1     1737  [[0.023858232, -0.013248299, 0.029257584, 0.00...  1737_2.jpg\n",
       "2      390  [[0.049199242, 0.009060843, 0.059195463, 0.043...  390_11.jpg\n",
       "3     4985  [[-0.035605703, 0.02781184, 0.009004803, -0.02...  4985_1.jpg\n",
       "4     1667  [[-0.0028737723, 0.06858538, 0.049484707, -0.0...  1667_2.jpg\n",
       "...    ...                                                ...         ...\n",
       "4438   961  [[-0.02176254, -0.010053865, -0.04326786, -0.0...   961_6.jpg\n",
       "4439   641  [[0.018750526, 0.040325377, -0.020772193, -0.0...  641_11.jpg\n",
       "4440  3041  [[0.03290178, 0.014625239, 0.021345284, 0.1004...  3041_1.jpg\n",
       "4441  4870  [[0.04556825, -0.05682025, 0.030321093, 0.0209...  4870_2.jpg\n",
       "4442   480  [[-0.0012077964, 0.058828387, -0.111839026, -0...  480_32.jpg\n",
       "\n",
       "[4443 rows x 3 columns]"
      ]
     },
     "execution_count": 8,
     "metadata": {},
     "output_type": "execute_result"
    }
   ],
   "source": [
    "profiles_df"
   ]
  },
  {
   "cell_type": "code",
   "execution_count": 9,
   "id": "4edce6c1",
   "metadata": {},
   "outputs": [],
   "source": [
    "profiles_mat = np.array(profiles_df.feat.to_list()).squeeze(1)"
   ]
  },
  {
   "cell_type": "code",
   "execution_count": 10,
   "id": "93972ac3",
   "metadata": {},
   "outputs": [
    {
     "data": {
      "text/plain": [
       "(4443, 512)"
      ]
     },
     "execution_count": 10,
     "metadata": {},
     "output_type": "execute_result"
    }
   ],
   "source": [
    "profiles_mat.shape"
   ]
  },
  {
   "cell_type": "markdown",
   "id": "ceeb96d3",
   "metadata": {},
   "source": [
    "# Test Image"
   ]
  },
  {
   "cell_type": "code",
   "execution_count": 11,
   "id": "dc3a39b5",
   "metadata": {},
   "outputs": [],
   "source": [
    "with open('./save_feat/test_feature_r100_tiny_face_test.pickle', 'rb') as f:\n",
    "    test_feats = pickle.load(f)"
   ]
  },
  {
   "cell_type": "code",
   "execution_count": 12,
   "id": "c7531b4b",
   "metadata": {},
   "outputs": [
    {
     "data": {
      "text/plain": [
       "3728"
      ]
     },
     "execution_count": 12,
     "metadata": {},
     "output_type": "execute_result"
    }
   ],
   "source": [
    "len(test_feats.keys())"
   ]
  },
  {
   "cell_type": "code",
   "execution_count": 13,
   "id": "3eeddd71",
   "metadata": {},
   "outputs": [
    {
     "data": {
      "text/plain": [
       "(3728, 512)"
      ]
     },
     "execution_count": 13,
     "metadata": {},
     "output_type": "execute_result"
    }
   ],
   "source": [
    "np.array(list(test_feats.values())).squeeze(1).shape"
   ]
  },
  {
   "cell_type": "code",
   "execution_count": 14,
   "id": "a36311ce",
   "metadata": {},
   "outputs": [],
   "source": [
    "test_face_ids = []\n",
    "test_image_names = []\n",
    "for k in test_feats.keys():\n",
    "    test_face_ids.append(k.split('_')[0])\n",
    "    test_image_names.append(k)"
   ]
  },
  {
   "cell_type": "code",
   "execution_count": 15,
   "id": "9d5198ae",
   "metadata": {},
   "outputs": [],
   "source": [
    "test_df = pd.DataFrame({'id':test_face_ids, 'feat':list(test_feats.values()), 'image_name':test_image_names})"
   ]
  },
  {
   "cell_type": "code",
   "execution_count": 16,
   "id": "e40fc6f7",
   "metadata": {},
   "outputs": [
    {
     "data": {
      "text/html": [
       "<div>\n",
       "<style scoped>\n",
       "    .dataframe tbody tr th:only-of-type {\n",
       "        vertical-align: middle;\n",
       "    }\n",
       "\n",
       "    .dataframe tbody tr th {\n",
       "        vertical-align: top;\n",
       "    }\n",
       "\n",
       "    .dataframe thead th {\n",
       "        text-align: right;\n",
       "    }\n",
       "</style>\n",
       "<table border=\"1\" class=\"dataframe\">\n",
       "  <thead>\n",
       "    <tr style=\"text-align: right;\">\n",
       "      <th></th>\n",
       "      <th>id</th>\n",
       "      <th>feat</th>\n",
       "      <th>image_name</th>\n",
       "    </tr>\n",
       "  </thead>\n",
       "  <tbody>\n",
       "    <tr>\n",
       "      <th>0</th>\n",
       "      <td>4158</td>\n",
       "      <td>[[-0.02561251, -0.022131706, 0.026354099, -0.0...</td>\n",
       "      <td>4158_6.jpg</td>\n",
       "    </tr>\n",
       "    <tr>\n",
       "      <th>1</th>\n",
       "      <td>3510</td>\n",
       "      <td>[[-0.020593157, 0.013408898, 0.015119124, -0.0...</td>\n",
       "      <td>3510_2.jpg</td>\n",
       "    </tr>\n",
       "    <tr>\n",
       "      <th>2</th>\n",
       "      <td>5477</td>\n",
       "      <td>[[-0.023336, -0.009472727, 0.018649304, -0.005...</td>\n",
       "      <td>5477_2.jpg</td>\n",
       "    </tr>\n",
       "    <tr>\n",
       "      <th>3</th>\n",
       "      <td>4020</td>\n",
       "      <td>[[-0.0010503666, 0.029097129, 0.015072649, -0....</td>\n",
       "      <td>4020_3.jpg</td>\n",
       "    </tr>\n",
       "    <tr>\n",
       "      <th>4</th>\n",
       "      <td>2353</td>\n",
       "      <td>[[-0.018030383, 0.11625832, 0.016371198, 0.031...</td>\n",
       "      <td>2353_4.jpg</td>\n",
       "    </tr>\n",
       "    <tr>\n",
       "      <th>...</th>\n",
       "      <td>...</td>\n",
       "      <td>...</td>\n",
       "      <td>...</td>\n",
       "    </tr>\n",
       "    <tr>\n",
       "      <th>3723</th>\n",
       "      <td>3190</td>\n",
       "      <td>[[0.041545726, -0.017554404, 0.034322515, 0.04...</td>\n",
       "      <td>3190_1.jpg</td>\n",
       "    </tr>\n",
       "    <tr>\n",
       "      <th>3724</th>\n",
       "      <td>159</td>\n",
       "      <td>[[0.07334582, -0.018404385, 0.09697984, 0.0787...</td>\n",
       "      <td>159_10.jpg</td>\n",
       "    </tr>\n",
       "    <tr>\n",
       "      <th>3725</th>\n",
       "      <td>3269</td>\n",
       "      <td>[[0.007111652, 0.027439773, 0.026061954, 0.012...</td>\n",
       "      <td>3269_2.jpg</td>\n",
       "    </tr>\n",
       "    <tr>\n",
       "      <th>3726</th>\n",
       "      <td>5004</td>\n",
       "      <td>[[0.053424664, 0.0048460322, -0.014051733, -0....</td>\n",
       "      <td>5004_1.jpg</td>\n",
       "    </tr>\n",
       "    <tr>\n",
       "      <th>3727</th>\n",
       "      <td>2335</td>\n",
       "      <td>[[0.057486724, 0.026325313, -0.03391294, -0.03...</td>\n",
       "      <td>2335_2.jpg</td>\n",
       "    </tr>\n",
       "  </tbody>\n",
       "</table>\n",
       "<p>3728 rows × 3 columns</p>\n",
       "</div>"
      ],
      "text/plain": [
       "        id                                               feat  image_name\n",
       "0     4158  [[-0.02561251, -0.022131706, 0.026354099, -0.0...  4158_6.jpg\n",
       "1     3510  [[-0.020593157, 0.013408898, 0.015119124, -0.0...  3510_2.jpg\n",
       "2     5477  [[-0.023336, -0.009472727, 0.018649304, -0.005...  5477_2.jpg\n",
       "3     4020  [[-0.0010503666, 0.029097129, 0.015072649, -0....  4020_3.jpg\n",
       "4     2353  [[-0.018030383, 0.11625832, 0.016371198, 0.031...  2353_4.jpg\n",
       "...    ...                                                ...         ...\n",
       "3723  3190  [[0.041545726, -0.017554404, 0.034322515, 0.04...  3190_1.jpg\n",
       "3724   159  [[0.07334582, -0.018404385, 0.09697984, 0.0787...  159_10.jpg\n",
       "3725  3269  [[0.007111652, 0.027439773, 0.026061954, 0.012...  3269_2.jpg\n",
       "3726  5004  [[0.053424664, 0.0048460322, -0.014051733, -0....  5004_1.jpg\n",
       "3727  2335  [[0.057486724, 0.026325313, -0.03391294, -0.03...  2335_2.jpg\n",
       "\n",
       "[3728 rows x 3 columns]"
      ]
     },
     "execution_count": 16,
     "metadata": {},
     "output_type": "execute_result"
    }
   ],
   "source": [
    "test_df"
   ]
  },
  {
   "cell_type": "code",
   "execution_count": 17,
   "id": "08dd5239",
   "metadata": {},
   "outputs": [],
   "source": [
    "test_mat = np.array(test_df.feat.to_list()).squeeze(1)"
   ]
  },
  {
   "cell_type": "code",
   "execution_count": 18,
   "id": "7dfbe40c",
   "metadata": {},
   "outputs": [
    {
     "data": {
      "text/plain": [
       "(3728, 512)"
      ]
     },
     "execution_count": 18,
     "metadata": {},
     "output_type": "execute_result"
    }
   ],
   "source": [
    "test_mat.shape"
   ]
  },
  {
   "cell_type": "markdown",
   "id": "24a010cd",
   "metadata": {},
   "source": [
    "# Run Compute Sims"
   ]
  },
  {
   "cell_type": "code",
   "execution_count": 22,
   "id": "5a123ca4",
   "metadata": {},
   "outputs": [],
   "source": [
    "sims = (np.dot(test_mat, profiles_mat.T) + 1.0) / 2.0"
   ]
  },
  {
   "cell_type": "code",
   "execution_count": 23,
   "id": "8231d9db",
   "metadata": {},
   "outputs": [
    {
     "data": {
      "text/plain": [
       "(3728, 4443)"
      ]
     },
     "execution_count": 23,
     "metadata": {},
     "output_type": "execute_result"
    }
   ],
   "source": [
    "sims.shape"
   ]
  },
  {
   "cell_type": "code",
   "execution_count": 24,
   "id": "a6cb0760",
   "metadata": {},
   "outputs": [
    {
     "data": {
      "text/plain": [
       "array([[0.5280964 , 0.54059386, 0.48258016, ..., 0.550255  , 0.5349394 ,\n",
       "        0.49423137],\n",
       "       [0.60166776, 0.5827564 , 0.5096101 , ..., 0.5547889 , 0.597708  ,\n",
       "        0.54188013],\n",
       "       [0.5274681 , 0.50776964, 0.5425076 , ..., 0.5373103 , 0.5545709 ,\n",
       "        0.54574186],\n",
       "       ...,\n",
       "       [0.53712183, 0.52558434, 0.6055504 , ..., 0.53892684, 0.54863894,\n",
       "        0.55042243],\n",
       "       [0.58168745, 0.62024814, 0.49527112, ..., 0.53765905, 0.46174678,\n",
       "        0.5806039 ],\n",
       "       [0.47943234, 0.54336166, 0.5684128 , ..., 0.6024626 , 0.48321474,\n",
       "        0.5312079 ]], dtype=float32)"
      ]
     },
     "execution_count": 24,
     "metadata": {},
     "output_type": "execute_result"
    }
   ],
   "source": [
    "sims"
   ]
  },
  {
   "cell_type": "code",
   "execution_count": 63,
   "id": "25c60901",
   "metadata": {},
   "outputs": [],
   "source": [
    "m_AP = 0\n",
    "empty = 0\n",
    "true_positive = 0\n",
    "false_positive = 0\n",
    "false_nagetive = 0\n",
    "\n",
    "for i in range(sims.shape[0]):\n",
    "    index = np.argmax(sims[i])\n",
    "    if sims[i][index] < 0.73:\n",
    "        false_nagetive += 1\n",
    "    else:\n",
    "        if test_df.iloc[i].id == profiles_df.iloc[index].id:\n",
    "            true_positive += 1\n",
    "        else:\n",
    "            false_positive += 1\n",
    "\n",
    "precision = true_positive / (true_positive + false_positive)\n",
    "recall = true_positive / (true_positive + false_nagetive)\n",
    "accuracy = true_positive / sims.shape[0]"
   ]
  },
  {
   "cell_type": "code",
   "execution_count": 64,
   "id": "100ade9c",
   "metadata": {},
   "outputs": [
    {
     "data": {
      "text/plain": [
       "0.6145038167938931"
      ]
     },
     "execution_count": 64,
     "metadata": {},
     "output_type": "execute_result"
    }
   ],
   "source": [
    "precision"
   ]
  },
  {
   "cell_type": "code",
   "execution_count": 65,
   "id": "b84d83ee",
   "metadata": {},
   "outputs": [
    {
     "data": {
      "text/plain": [
       "0.676729079098204"
      ]
     },
     "execution_count": 65,
     "metadata": {},
     "output_type": "execute_result"
    }
   ],
   "source": [
    "recall"
   ]
  },
  {
   "cell_type": "code",
   "execution_count": 66,
   "id": "e22dd73d",
   "metadata": {},
   "outputs": [
    {
     "data": {
      "text/plain": [
       "0.4750536480686695"
      ]
     },
     "execution_count": 66,
     "metadata": {},
     "output_type": "execute_result"
    }
   ],
   "source": [
    "accuracy"
   ]
  },
  {
   "cell_type": "code",
   "execution_count": null,
   "id": "40c1bce1",
   "metadata": {},
   "outputs": [],
   "source": []
  }
 ],
 "metadata": {
  "kernelspec": {
   "display_name": "insigthface",
   "language": "python",
   "name": "insigthface"
  },
  "language_info": {
   "codemirror_mode": {
    "name": "ipython",
    "version": 3
   },
   "file_extension": ".py",
   "mimetype": "text/x-python",
   "name": "python",
   "nbconvert_exporter": "python",
   "pygments_lexer": "ipython3",
   "version": "3.8.13"
  },
  "toc-autonumbering": true,
  "toc-showcode": false,
  "toc-showmarkdowntxt": false
 },
 "nbformat": 4,
 "nbformat_minor": 5
}
